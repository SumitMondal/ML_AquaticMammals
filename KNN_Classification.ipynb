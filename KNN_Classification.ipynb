{
 "cells": [
  {
   "cell_type": "code",
   "execution_count": 41,
   "metadata": {},
   "outputs": [],
   "source": [
    "import numpy as np\n",
    "from numpy import newaxis\n",
    "import random\n",
    "import matplotlib.pyplot as plt\n",
    "from sklearn import neighbors\n",
    "import os\n",
    "import scipy.io.wavfile\n",
    "from sklearn.decomposition import PCA\n",
    "from sklearn.svm import SVC \n",
    "from sklearn.model_selection import train_test_split\n",
    "from sklearn import metrics\n",
    "from sklearn.model_selection import GridSearchCV\n",
    "from sklearn.ensemble import RandomForestClassifier\n",
    "\n",
    "global num_fcc_frames\n",
    "global num_ceps\n",
    "global min_length_secs\n",
    "\n",
    "from sklearn.model_selection import cross_val_score\n",
    "from sklearn.model_selection import train_test_split\n",
    "\n",
    "num_fcc_frames = 50\n",
    "num_ceps = 12\n",
    "min_length_secs = .5\n",
    "path = os.getcwd()"
   ]
  },
  {
   "cell_type": "markdown",
   "metadata": {},
   "source": [
    "# Load Data from File"
   ]
  },
  {
   "cell_type": "code",
   "execution_count": 42,
   "metadata": {},
   "outputs": [],
   "source": [
    "Clymene_Dolphin = np.load(path + '/NumpyArrays/Clymene_Dolphin.npy')\n",
    "Common_Dolphin = np.load(path + '/NumpyArrays/Common_Dolphin.npy')\n",
    "False_Killer_Whale = np.load(path + '/NumpyArrays/False_Killer_Whale.npy')\n",
    "Melon_Headed_Whale = np.load(path + '/NumpyArrays/Melon_Headed_Whale.npy')\n",
    "Panatropical_Spotted_Dolphin = np.load(path + '/NumpyArrays/Panatropical_Spotted_Dolphin.npy')\n",
    "Rissos_Dolphin = np.load(path + '/NumpyArrays/Rissos_Dolphin.npy')\n",
    "Short_Finned_Pilot_Whale = np.load(path + '/NumpyArrays/Short_Finned_Pilot_Whale.npy')\n",
    "Sperm_Whale = np.load(path + '/NumpyArrays/Sperm_Whale.npy')\n",
    "Spinner_Dolphin = np.load(path + '/NumpyArrays/Spinner_Dolphin.npy')\n",
    "Striped_Dolphin = np.load(path + '/NumpyArrays/Striped_Dolphin.npy')\n",
    "White_sided_Dolphin = np.load(path + '/NumpyArrays/White_sided_Dolphin.npy')\n",
    "Bottlenose_Dolphin = np.load(path + '/NumpyArrays/Bottlenose_Dolphin.npy')\n",
    "\n",
    "names = []\n",
    "names.append('Bottlenose_Dolphin')\n",
    "names.append('Common_Dolphin')\n",
    "names.append('False_Killer_Whale')\n",
    "names.append('Melon_Headed_Whale')\n",
    "names.append('Panatropical_Spotted_Dolphin')\n",
    "names.append('Rissos_Dolphin')\n",
    "names.append('Short_Finned_Pilot_Whale')\n",
    "names.append('Sperm_Whale')\n",
    "names.append('Spinner_Dolphin')\n",
    "names.append('Striped_Dolphin')\n",
    "names.append('White_sided_Dolphin')\n",
    "names.append('Clymene_Dolphin')"
   ]
  },
  {
   "cell_type": "markdown",
   "metadata": {},
   "source": [
    "# Creating Feature Matrix and Label Vector"
   ]
  },
  {
   "cell_type": "code",
   "execution_count": 43,
   "metadata": {},
   "outputs": [],
   "source": [
    "# Below is the Feature matrix as gathered from the Numpy Arrays folder\n",
    "# Each row corresponds to a single entry, with 600 features (MFCC) that were gathered from a single audio file\n",
    "# In more lamens terms, each row is a single whistle from an animal, that is going to be labeled by Y !\n",
    "\n",
    "X = np.concatenate((Bottlenose_Dolphin,Common_Dolphin))\n",
    "X = np.concatenate((X,False_Killer_Whale))\n",
    "X = np.concatenate((X,Melon_Headed_Whale))\n",
    "X = np.concatenate((X,Panatropical_Spotted_Dolphin))\n",
    "X = np.concatenate((X,Rissos_Dolphin))\n",
    "X = np.concatenate((X,Short_Finned_Pilot_Whale))\n",
    "X = np.concatenate((X,Sperm_Whale))\n",
    "X = np.concatenate((X,Spinner_Dolphin))\n",
    "X = np.concatenate((X,Striped_Dolphin))\n",
    "X = np.concatenate((X,White_sided_Dolphin))\n",
    "X = np.concatenate((X,Clymene_Dolphin))\n",
    "\n",
    "# I hate to use these magic numbers, but all I am doing below is creating a single vector, the Label vector,\n",
    "# Label is equal to 1 when it is the specified animal, and 0 otherwise (as corresponds to the X matrix, or data matrix)\n",
    "\n",
    "Y_Bottlenose = np.concatenate((np.ones(375,'F'),np.zeros(1990,'F')))\n",
    "Y_Common = np.concatenate((np.zeros(375,'F'),np.ones(101,'F'),np.zeros(1889,'F')))\n",
    "Y_False = np.concatenate((np.zeros(476,'F'),np.ones(108,'F'),np.zeros(1781,'F')))\n",
    "Y_Melon = np.concatenate((np.zeros(584,'F'),np.ones(69,'F'),np.zeros(1712,'F')))\n",
    "Y_Panatropical = np.concatenate((np.zeros(653,'F'),np.ones(378,'F'),np.zeros(1334,'F')))\n",
    "Y_Rissos = np.concatenate((np.zeros(1031,'F'),np.ones(112,'F'),np.zeros(1222,'F')))\n",
    "Y_Short = np.concatenate((np.zeros(1143,'F'),np.ones(147,'F'),np.zeros(1075,'F')))\n",
    "Y_Sperm = np.concatenate((np.zeros(1290,'F'),np.ones(173,'F'),np.zeros(902,'F')))\n",
    "Y_Spinner = np.concatenate((np.zeros(1463,'F'),np.ones(71,'F'),np.zeros(831,'F')))\n",
    "Y_Striped = np.concatenate((np.zeros(1534,'F'),np.ones(171,'F'),np.zeros(660,'F')))\n",
    "Y_White = np.concatenate((np.zeros(1705,'F'),np.ones(416,'F'),np.zeros(244,'F')))\n",
    "Y_Clymene = np.concatenate((np.ones(2121,'F'),np.zeros(244,'F')))\n"
   ]
  },
  {
   "cell_type": "markdown",
   "metadata": {},
   "source": [
    "# Parameter Estimation"
   ]
  },
  {
   "cell_type": "markdown",
   "metadata": {},
   "source": [
    "### PCA Components"
   ]
  },
  {
   "cell_type": "code",
   "execution_count": 44,
   "metadata": {},
   "outputs": [
    {
     "data": {
      "image/png": "[encoded data removed]",
      "text/plain": [
       "<Figure size 432x288 with 1 Axes>"
      ]
     },
     "metadata": {
      "needs_background": "light"
     },
     "output_type": "display_data"
    },
    {
     "name": "stdout",
     "output_type": "stream",
     "text": [
      "Using 3-fold Cross Validation, the best number of PCA Components is 1.\n"
     ]
    }
   ],
   "source": [
    "# We are going to set the value of k = 5, and find the best value for the number of PCA components\n",
    "# by looping through values 1 to 100, and see what gives the best data using the score\n",
    "scores = []\n",
    "l = list(range(1,100))\n",
    "for i in range(1,100):\n",
    "    pca = PCA(n_components = i)  \n",
    "    X_pca = pca.fit_transform(X)  \n",
    "    clf = neighbors.KNeighborsClassifier(5,'uniform')\n",
    "    score = cross_val_score(clf, X_pca, Y_Bottlenose.real, cv=3)\n",
    "    scores.append(score.mean())\n",
    "    \n",
    "plt.plot(l,scores,'o', color='black')\n",
    "plt.title(\" PCA Components vs Mean Accuracy of 5-NN Classifier\")\n",
    "plt.xlabel(\"PCA Components\")\n",
    "plt.ylabel(\"Mean Accuracy\")\n",
    "plt.show()\n",
    "\n",
    "max_pca_value = np.argmax(scores) + 1\n",
    "print(\"Using 3-fold Cross Validation, the best number of PCA Components is %s.\" % max_pca_value)"
   ]
  },
  {
   "cell_type": "markdown",
   "metadata": {},
   "source": [
    "### Number of Nearest Neighbors"
   ]
  },
  {
   "cell_type": "code",
   "execution_count": 37,
   "metadata": {},
   "outputs": [
    {
     "data": {
      "image/png": "[encoded data removed]",
      "text/plain": [
       "<Figure size 432x288 with 1 Axes>"
      ]
     },
     "metadata": {
      "needs_background": "light"
     },
     "output_type": "display_data"
    },
    {
     "name": "stdout",
     "output_type": "stream",
     "text": [
      "Using 3-fold Cross Validation, the best number of K Nearest Neighbors is 16.\n"
     ]
    }
   ],
   "source": [
    "# We are going to set the value of number of PCA componenets = 3, and find the best value Number of Nearest Neighbors\n",
    "# by looping through values 1 to 100, and see what gives the best data using the score\n",
    "scores = []\n",
    "l = list(range(1,100))\n",
    "for i in range(1,100):\n",
    "    pca = PCA(n_components = 1)  \n",
    "    X_pca = pca.fit_transform(X)  \n",
    "    clf = neighbors.KNeighborsClassifier(i,'uniform')\n",
    "    score = cross_val_score(clf, X_pca, Y_Bottlenose.real, cv=3)\n",
    "    scores.append(score.mean())\n",
    "    \n",
    "plt.plot(l,scores,'o', color='black')\n",
    "plt.title(\" K Neighbors vs Mean Accuracy of 5-NN Classifier\")\n",
    "plt.xlabel(\"K Neighbors\")\n",
    "plt.ylabel(\"Mean Accuracy\")\n",
    "plt.show()\n",
    "\n",
    "max_k_value = np.argmax(scores) + 1\n",
    "print(\"Using 3-fold Cross Validation, the best number of K Nearest Neighbors is %s.\" % max_k_value)"
   ]
  },
  {
   "cell_type": "markdown",
   "metadata": {},
   "source": [
    "# Final Results"
   ]
  },
  {
   "cell_type": "code",
   "execution_count": 38,
   "metadata": {},
   "outputs": [
    {
     "name": "stdout",
     "output_type": "stream",
     "text": [
      "K-NN Classifier Accuracy for Bottlenose Dolphin vs All: 0.84 (+/- 0.00)\n",
      "K-NN Classifier Accuracy for Common Dolphin vs All: 0.96 (+/- 0.00)\n",
      "K-NN Classifier Accuracy for False Killer Whale vs All: 0.95 (+/- 0.00)\n",
      "K-NN Classifier Accuracy for Melon Headed Whale vs All: 0.97 (+/- 0.00)\n",
      "K-NN Classifier Accuracy for Panatropical Spotted Dolphin vs All: 0.84 (+/- 0.00)\n",
      "K-NN Classifier Accuracy for Rissos Dolphin vs All: 0.95 (+/- 0.00)\n",
      "K-NN Classifier Accuracy for Short Finned Pilot Whale vs All: 0.94 (+/- 0.00)\n",
      "K-NN Classifier Accuracy for Sperm Whale vs All: 0.93 (+/- 0.00)\n",
      "K-NN Classifier Accuracy for Spinner Dolphin vs All: 0.97 (+/- 0.00)\n",
      "K-NN Classifier Accuracy for Striped Dolphin vs All: 0.97 (+/- 0.00)\n",
      "K-NN Classifier Accuracy for White Sided Dolphin vs All: 0.83 (+/- 0.03)\n",
      "K-NN Classifier Accuracy for Clymene Dolphin vs All: 0.88 (+/- 0.04)\n"
     ]
    }
   ],
   "source": [
    "pca = PCA(n_components = 1)  \n",
    "X_pca = pca.fit_transform(X)  \n",
    "clf = neighbors.KNeighborsClassifier(16,'uniform')\n",
    "score = cross_val_score(clf, X_pca, Y_Bottlenose.real, cv=3)\n",
    "print(\"K-NN Classifier Accuracy for Bottlenose Dolphin vs All: %0.2f (+/- %0.2f)\" % (score.mean(), score.std() * 2))\n",
    "\n",
    "score = cross_val_score(clf, X_pca, Y_Common.real, cv=3)\n",
    "print(\"K-NN Classifier Accuracy for Common Dolphin vs All: %0.2f (+/- %0.2f)\" % (score.mean(), score.std() * 2))\n",
    "\n",
    "score = cross_val_score(clf, X_pca, Y_False.real, cv=3)\n",
    "print(\"K-NN Classifier Accuracy for False Killer Whale vs All: %0.2f (+/- %0.2f)\" % (score.mean(), score.std() * 2))\n",
    "\n",
    "score = cross_val_score(clf, X_pca, Y_Melon.real, cv=3)\n",
    "print(\"K-NN Classifier Accuracy for Melon Headed Whale vs All: %0.2f (+/- %0.2f)\" % (score.mean(), score.std() * 2))\n",
    "\n",
    "score = cross_val_score(clf, X_pca, Y_Panatropical.real, cv=3)\n",
    "print(\"K-NN Classifier Accuracy for Panatropical Spotted Dolphin vs All: %0.2f (+/- %0.2f)\" % (score.mean(), score.std() * 2))\n",
    "\n",
    "score = cross_val_score(clf, X_pca, Y_Rissos.real, cv=3)\n",
    "print(\"K-NN Classifier Accuracy for Rissos Dolphin vs All: %0.2f (+/- %0.2f)\" % (score.mean(), score.std() * 2))\n",
    "\n",
    "score = cross_val_score(clf, X_pca, Y_Short.real, cv=3)\n",
    "print(\"K-NN Classifier Accuracy for Short Finned Pilot Whale vs All: %0.2f (+/- %0.2f)\" % (score.mean(), score.std() * 2))\n",
    "\n",
    "score = cross_val_score(clf, X_pca, Y_Sperm.real, cv=3)\n",
    "print(\"K-NN Classifier Accuracy for Sperm Whale vs All: %0.2f (+/- %0.2f)\" % (score.mean(), score.std() * 2))\n",
    "\n",
    "score = cross_val_score(clf, X_pca, Y_Spinner.real, cv=3)\n",
    "print(\"K-NN Classifier Accuracy for Spinner Dolphin vs All: %0.2f (+/- %0.2f)\" % (score.mean(), score.std() * 2))\n",
    "\n",
    "score = cross_val_score(clf, X_pca, Y_Spinner.real, cv=3)\n",
    "print(\"K-NN Classifier Accuracy for Striped Dolphin vs All: %0.2f (+/- %0.2f)\" % (score.mean(), score.std() * 2))\n",
    "\n",
    "score = cross_val_score(clf, X_pca, Y_White.real, cv=3)\n",
    "print(\"K-NN Classifier Accuracy for White Sided Dolphin vs All: %0.2f (+/- %0.2f)\" % (score.mean(), score.std() * 2))\n",
    "\n",
    "score = cross_val_score(clf, X_pca, Y_Clymene.real, cv=3)\n",
    "print(\"K-NN Classifier Accuracy for Clymene Dolphin vs All: %0.2f (+/- %0.2f)\" % (score.mean(), score.std() * 2))\n",
    "\n"
   ]
  },
  {
   "cell_type": "markdown",
   "metadata": {},
   "source": [
    "| Species vs All | Mean Accuracy of KNN   |\n",
    "|------|------|\n",
    "|   Bottlenose Dolphin  | 84% |\n",
    "|   Common Dolphin  | 96% |\n",
    "|   False Killer Whale   | 95% |\n",
    "|   Melon Headed Whale | 97% |\n",
    "|   Panatropical Spotted Dolphin  | 84% |\n",
    "|    Rissos Dolphin  | 95% |\n",
    "|   Short Finned Pilot Whale  | 94% |\n",
    "|   Sperm Whale  | 93% |\n",
    "|   Spinner Dolphin  | 97% |\n",
    "|   Striped Dolphin  | 97% |\n",
    "|   White Sided Dolphin  | 83% |\n",
    "|   Clymene Dolphin  | 88% |\n"
   ]
  },
  {
   "cell_type": "markdown",
   "metadata": {},
   "source": [
    "### Wow these are pretty good results for such a naive classifier ! "
   ]
  },
  {
   "cell_type": "markdown",
   "metadata": {},
   "source": [
    "### After all, the risk of KNN is at most 2 * the Risk of the Optimal Bayes Classifier :)"
   ]
  },
  {
   "cell_type": "markdown",
   "metadata": {},
   "source": [
    "### Lets see if we can do any better ..."
   ]
  },
  {
   "cell_type": "code",
   "execution_count": null,
   "metadata": {},
   "outputs": [],
   "source": []
  }
 ],
 "metadata": {
  "kernelspec": {
   "display_name": "Python 3",
   "language": "python",
   "name": "python3"
  },
  "language_info": {
   "codemirror_mode": {
    "name": "ipython",
    "version": 3
   },
   "file_extension": ".py",
   "mimetype": "text/x-python",
   "name": "python",
   "nbconvert_exporter": "python",
   "pygments_lexer": "ipython3",
   "version": "3.7.1"
  }
 },
 "nbformat": 4,
 "nbformat_minor": 2
}
